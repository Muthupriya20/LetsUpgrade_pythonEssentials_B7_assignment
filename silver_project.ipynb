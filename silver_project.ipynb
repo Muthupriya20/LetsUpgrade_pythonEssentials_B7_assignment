{
 "cells": [
  {
   "cell_type": "markdown",
   "metadata": {},
   "source": [
    "# Rock Paper Scissor"
   ]
  },
  {
   "cell_type": "code",
   "execution_count": 2,
   "metadata": {},
   "outputs": [],
   "source": [
    "def playerinput():\n",
    "    player=\"blank\"\n",
    "    while not(player.lower()=='rock'or player.lower()=='paper' or player.lower()=='scissor'):\n",
    "        player=input(\"enter your choice-Rock|Paper|Scissor:\")\n",
    "        return player.lower()"
   ]
  },
  {
   "cell_type": "code",
   "execution_count": 3,
   "metadata": {},
   "outputs": [],
   "source": [
    "import random\n",
    "def computerinput():\n",
    "    rps=['rock','paper','scissor']\n",
    "    return random.choice(rps)"
   ]
  },
  {
   "cell_type": "code",
   "execution_count": 4,
   "metadata": {},
   "outputs": [
    {
     "data": {
      "text/plain": [
       "'scissor'"
      ]
     },
     "execution_count": 4,
     "metadata": {},
     "output_type": "execute_result"
    }
   ],
   "source": [
    "computerinput()"
   ]
  },
  {
   "cell_type": "code",
   "execution_count": 5,
   "metadata": {},
   "outputs": [],
   "source": [
    "def winner(player,computer):\n",
    "    if player==computer:\n",
    "        return \"Tie\"\n",
    "    elif player=='rock' and computer=='paper':\n",
    "        return \"Computer\"\n",
    "    elif player=='rock' and computer=='scissor':\n",
    "        return \"Player\"\n",
    "    elif player=='paper' and computer=='rock':\n",
    "        return \"Player\"\n",
    "    elif player=='paper' and computer=='scissor':\n",
    "        return \"Computer\"\n",
    "    elif player=='scissor' and computer=='rock':\n",
    "        return \"Computer\"\n",
    "    else:\n",
    "        return \"Player\""
   ]
  },
  {
   "cell_type": "code",
   "execution_count": 6,
   "metadata": {},
   "outputs": [],
   "source": [
    "def rockpaperscissor():\n",
    "    endTheGame=\"n\"\n",
    "    player_point=0\n",
    "    computer_point=0\n",
    "    while endTheGame.lower()!=\"y\":\n",
    "        human=playerinput()\n",
    "        machine=computerinput()\n",
    "        print(\"computer choice\",machine)\n",
    "        print(\" \")\n",
    "        Gamewinner=winner(player=human,computer=machine)\n",
    "        print(\"the winner is: \",Gamewinner)\n",
    "        print(\" \")\n",
    "        if Gamewinner==\"Player\":\n",
    "            player_point+=2\n",
    "        elif Gamewinner==\"Computer\":\n",
    "            computer_point+=2\n",
    "        else:\n",
    "            player_point+=1\n",
    "            computer_point+=1\n",
    "        print(\"---------Score Board-----------\")\n",
    "        print(\"PLAYER\",player_point)\n",
    "        print(\"COMPUTER\",computer_point)\n",
    "        print(\" \")\n",
    "        endTheGame=input(\"you want to exit?....Y/N\"  )"
   ]
  },
  {
   "cell_type": "code",
   "execution_count": 7,
   "metadata": {},
   "outputs": [
    {
     "name": "stdout",
     "output_type": "stream",
     "text": [
      "enter your choice-Rock|Paper|Scissor:rock\n",
      "computer choice rock\n",
      " \n",
      "the winner is:  Tie\n",
      " \n",
      "---------Score Board-----------\n",
      "PLAYER 1\n",
      "COMPUTER 1\n",
      " \n",
      "you want to exit?....Y/Nn\n",
      "enter your choice-Rock|Paper|Scissor:scissor\n",
      "computer choice scissor\n",
      " \n",
      "the winner is:  Tie\n",
      " \n",
      "---------Score Board-----------\n",
      "PLAYER 2\n",
      "COMPUTER 2\n",
      " \n",
      "you want to exit?....Y/Nn\n",
      "enter your choice-Rock|Paper|Scissor:rock\n",
      "computer choice scissor\n",
      " \n",
      "the winner is:  Player\n",
      " \n",
      "---------Score Board-----------\n",
      "PLAYER 4\n",
      "COMPUTER 2\n",
      " \n",
      "you want to exit?....Y/Ny\n"
     ]
    }
   ],
   "source": [
    "rockpaperscissor()"
   ]
  },
  {
   "cell_type": "code",
   "execution_count": null,
   "metadata": {},
   "outputs": [],
   "source": []
  }
 ],
 "metadata": {
  "kernelspec": {
   "display_name": "Python 3",
   "language": "python",
   "name": "python3"
  }
 },
 "nbformat": 4,
 "nbformat_minor": 4
}
